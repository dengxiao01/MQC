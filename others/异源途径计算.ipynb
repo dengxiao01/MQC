{
 "cells": [
  {
   "cell_type": "code",
   "execution_count": 1,
   "metadata": {},
   "outputs": [
    {
     "name": "stdout",
     "output_type": "stream",
     "text": [
      "The history saving thread hit an unexpected error (DatabaseError('database disk image is malformed')).History will not be written to the database.\n"
     ]
    }
   ],
   "source": [
    "import cobra\n",
    "from cobra import Model, Reaction, Metabolite\n",
    "import pandas as pd\n",
    "import csv\n",
    "import re\n",
    "import os\n",
    "from cobra.flux_analysis import pfba"
   ]
  },
  {
   "cell_type": "code",
   "execution_count": 17,
   "metadata": {},
   "outputs": [],
   "source": [
    "model = cobra.io.read_sbml_model('/home/dengxiao/mqc/mqc/local_test_data/other/iZM516_20230711_bigg.sbml')\n",
    "general_library = cobra.io.read_sbml_model('/home/dengxiao/mqc/mqc/local_test_data/other/model_general_library.xml')"
   ]
  },
  {
   "cell_type": "code",
   "execution_count": 3,
   "metadata": {},
   "outputs": [
    {
     "data": {
      "text/html": [
       "\n",
       "        <table>\n",
       "            <tr>\n",
       "                <td><strong>Metabolite identifier</strong></td><td>13ppd_c0</td>\n",
       "            </tr><tr>\n",
       "                <td><strong>Name</strong></td><td>1,3-Propanediol</td>\n",
       "            </tr><tr>\n",
       "                <td><strong>Memory address</strong></td>\n",
       "                <td>0x7f70cdabf1c0</td>\n",
       "            </tr><tr>\n",
       "                <td><strong>Formula</strong></td><td>C3H8O2</td>\n",
       "            </tr><tr>\n",
       "                <td><strong>Compartment</strong></td><td>c</td>\n",
       "            </tr><tr>\n",
       "                <td><strong>In 2 reaction(s)</strong></td><td>\n",
       "                    rxn26410, rxn02235\n",
       "                    </td>\n",
       "            </tr>\n",
       "        </table>"
      ],
      "text/plain": [
       "<Metabolite 13ppd_c0 at 0x7f70cdabf1c0>"
      ]
     },
     "execution_count": 3,
     "metadata": {},
     "output_type": "execute_result"
    }
   ],
   "source": [
    "general_library.metabolites.get_by_id('13ppd_c0')"
   ]
  },
  {
   "cell_type": "code",
   "execution_count": 4,
   "metadata": {},
   "outputs": [],
   "source": [
    "def gapfilling(model, demand_id, general_library):\n",
    "    \"\"\"\"\"\"\n",
    "    with model:\n",
    "        for rxns in model.reactions:  # 给系数扩大1000倍,添加的demand反应不改\n",
    "            temp_dict = {}\n",
    "            for met in rxns.metabolites:\n",
    "                temp_dict[met] = rxns.get_coefficient(met) * (1000)\n",
    "            rxns.add_metabolites(temp_dict) # 相同时会覆盖掉原代谢物。乘以1000是为了pfba计算\n",
    "        for rxns in general_library.reactions:\n",
    "            if rxns.id not in model.reactions and rxns.id != 'GLCS1' and 'BIOMASS' not in rxns.id and 'bio1' not in rxns.id and len(rxns.products) != 0:\n",
    "                model.add_reaction(rxns)  \n",
    "        #cobra.io.write_sbml_model(model,'model_general_library.xml')\n",
    "        reaction = Reaction(demand_id) \n",
    "        model.add_reactions([reaction])\n",
    "        reaction.build_reaction_from_string(demand_id + ' --> ')\n",
    "        model.reactions.get_by_id(demand_id).bounds = (0,1)  #dna （0，1） \n",
    "        model.objective = demand_id\n",
    "        model.reactions.get_by_id('EX_glc_D_e').bounds = (-1000,0)  #dna （0，1）\n",
    "        pfba_solution = pfba(model)  # 将模型和总库的反应融合到一起后，再次计算当前目标下的通量结果文件；随后把生成目标的途径添加到模型中\n",
    "        need_fluxes = pfba_solution.fluxes[abs(pfba_solution.fluxes)>1e-6]\n",
    "        new_way_rxn = list(need_fluxes.keys())\n",
    "    return new_way_rxn"
   ]
  },
  {
   "cell_type": "code",
   "execution_count": 18,
   "metadata": {},
   "outputs": [],
   "source": [
    "demand_id = '13ppd_c0'\n",
    "need_add_rea=gapfilling(model, demand_id, general_library)"
   ]
  },
  {
   "cell_type": "markdown",
   "metadata": {},
   "source": [
    "将需要gap的反应添加到原模型，然后再次以biomass为目标求解途径"
   ]
  },
  {
   "cell_type": "code",
   "execution_count": 20,
   "metadata": {},
   "outputs": [
    {
     "name": "stdout",
     "output_type": "stream",
     "text": [
      "rxn00768\n",
      "rxn26410\n",
      "rxn00617\n"
     ]
    }
   ],
   "source": [
    "model_rea,need_add_extra_rxn=[],[]\n",
    "\n",
    "for rxnId in need_add_rea:\n",
    "    if rxnId not in model.reactions and rxnId != demand_id:\n",
    "        need_add_extra_rxn.append(rxnId)\n",
    "        print(rxnId)\n",
    "\n",
    "with model:\n",
    "    for rxnId in need_add_extra_rxn:\n",
    "        rxns = general_library.reactions.get_by_id(rxnId)\n",
    "        model.add_reaction(rxns)\n",
    "    pfba_solution = pfba(model)  # 将模型和总库的反应融合到一起后，再次计算当前目标下的通量结果文件；随后把生成目标的途径添加到模型中\n",
    "    need_fluxes = pfba_solution.fluxes[abs(pfba_solution.fluxes)>1e-6]\n",
    "    flux_table = f'{demand_id}.txt'\n",
    "    with open(flux_table, 'w') as flux:  \n",
    "        for r,v in need_fluxes.items():\n",
    "            rxns = model.reactions.get_by_id(r) \n",
    "            try:\n",
    "                check = rxns.check_mass_balance()  \n",
    "                flux.write(f\"{r}\\t{round(v,5)}\\t{rxns.reaction}\\t{rxns.build_reaction_string(use_metabolite_names=True)}\\t{rxns.bounds}\\t{check}\\n\") \n",
    "            except:\n",
    "                flux.write(f\"{r}\\t{round(v,5)}\\t{rxns.reaction}\\t{rxns.build_reaction_string(use_metabolite_names=True)}\\t{rxns.bounds}\\tno_check_mass_balance\\n\") "
   ]
  },
  {
   "cell_type": "code",
   "execution_count": 27,
   "metadata": {},
   "outputs": [
    {
     "name": "stdout",
     "output_type": "stream",
     "text": [
      "ATPM atp_c0 + h2o_c0 --> adp_c0 + h_c0 + pi_c0 (3.71, 3.71)\n",
      "EX_glc_D_e glc__D_e0 <=>  (-40.0, 1000.0)\n"
     ]
    }
   ],
   "source": [
    "for i in model.reactions:\n",
    "    a=model.reactions.get_by_id(i.id).lower_bound\n",
    "    if not a==0 and not a==-1000:\n",
    "        print(i.id, i.reaction,i.bounds)\n"
   ]
  },
  {
   "cell_type": "code",
   "execution_count": 4,
   "metadata": {},
   "outputs": [],
   "source": [
    "def add_gapfilling_rxn(self, model, model_info, demand_id, general_library):\n",
    "        new_way_rxn = self.gapfilling(model, demand_id, general_library)\n",
    "        num, need_add_rxn = 0, []\n",
    "        if not new_way_rxn:\n",
    "            gap_info = [\"Not able to gapfill the response!!!\"]\n",
    "        else:\n",
    "            gap_info = [\"gapfilling added reaction:\"]\n",
    "            for rxnId in new_way_rxn:\n",
    "                if rxnId not in model.reactions and rxnId in general_library.reactions:\n",
    "                    num += 1\n",
    "                    rxns = general_library.reactions.get_by_id(rxnId)\n",
    "                    model.add_reaction(rxns)\n",
    "                    need_add_rxn.append(rxnId)\n",
    "                    rxn_exp = [f\"{rxns}\"]\n",
    "                    if model_info['model_identifier'] == 'modelseed' or model_info['model_identifier'] == 'metaNetx':\n",
    "                        rxn_exp = [f\"{rxns.id}: {rxns.build_reaction_string(use_metabolite_names=True)}\"]\n",
    "                    gap_info.extend(rxn_exp)\n",
    "            if num == 0:\n",
    "                gap_info.extend([\"no gap response,since it already exists!\"])\n",
    "        return need_add_rxn, gap_info"
   ]
  },
  {
   "cell_type": "code",
   "execution_count": 5,
   "metadata": {},
   "outputs": [],
   "source": [
    "def add_gap_rxn(self, model, need_add_rxn, general_library):\n",
    "        \"\"\"\"\"\"\n",
    "        for rxnId in need_add_rxn:\n",
    "            rxns = general_library.reactions.get_by_id(rxnId)\n",
    "            model.add_reaction(rxns)"
   ]
  },
  {
   "cell_type": "code",
   "execution_count": 6,
   "metadata": {},
   "outputs": [],
   "source": [
    "def gap_initial_zero_bio(self, model_info, model, model_control_info, initial_rxn_id, general_library):\n",
    "        \"\"\"\"\"\"\n",
    "        no_synthesized_mets, num = [], 0\n",
    "        temp = [f\"Biomass initial rate is 0, check precursor components\"]\n",
    "        for met in model.reactions.get_by_id(initial_rxn_id).reactants:\n",
    "            num += 1\n",
    "            with model:\n",
    "                objectiveId = add_demand(model_info, model, str(met.id))\n",
    "                model.objective = objectiveId\n",
    "                ini_flux = model.slim_optimize()\n",
    "                if pd.isna(ini_flux) or ini_flux <= 1e-6:\n",
    "                    temp.extend([f\"The {str(met.id)} rate of the biomass component material is 0, and try to gap:\"])\n",
    "                    no_synthesized_mets.append(str(met.id))\n",
    "                    need_add_rxn, gap_info = self.add_gapfilling_rxn(big_model, model_info, objectiveId, general_library, 'pre')\n",
    "                    temp.extend(gap_info)    \n",
    "                    self.add_gap_rxn(model, need_add_rxn, general_library)\n",
    "        write_biomass(model_control_info, temp, \"预处理\")\n",
    "        return need_add_rxn, no_synthesized_mets\t"
   ]
  },
  {
   "cell_type": "code",
   "execution_count": 8,
   "metadata": {},
   "outputs": [
    {
     "ename": "KeyError",
     "evalue": "'Add_ATP_maintain'",
     "output_type": "error",
     "traceback": [
      "\u001b[1;31m---------------------------------------------------------------------------\u001b[0m",
      "\u001b[1;31mKeyError\u001b[0m                                  Traceback (most recent call last)",
      "\u001b[1;32m<ipython-input-8-a748e9a6afaf>\u001b[0m in \u001b[0;36m<module>\u001b[1;34m\u001b[0m\n\u001b[0;32m      2\u001b[0m \u001b[1;31m# general_library = cobra.io.read_sbml_model(\"mqc/summary/seed_1.xml\")\u001b[0m\u001b[1;33m\u001b[0m\u001b[1;33m\u001b[0m\u001b[0m\n\u001b[0;32m      3\u001b[0m \u001b[0mgeneral_library\u001b[0m \u001b[1;33m=\u001b[0m \u001b[0mcobra\u001b[0m\u001b[1;33m.\u001b[0m\u001b[0mio\u001b[0m\u001b[1;33m.\u001b[0m\u001b[0mread_sbml_model\u001b[0m\u001b[1;33m(\u001b[0m\u001b[1;34m'D:/User/takura/Desktop/mqc.xml'\u001b[0m\u001b[1;33m)\u001b[0m\u001b[1;33m\u001b[0m\u001b[0m\n\u001b[1;32m----> 4\u001b[1;33m \u001b[0mgeneral_library\u001b[0m\u001b[1;33m.\u001b[0m\u001b[0mreactions\u001b[0m\u001b[1;33m.\u001b[0m\u001b[0mget_by_id\u001b[0m\u001b[1;33m(\u001b[0m\u001b[1;34m'Add_ATP_maintain'\u001b[0m\u001b[1;33m)\u001b[0m\u001b[1;33m\u001b[0m\u001b[0m\n\u001b[0m",
      "\u001b[1;32md:\\ananconda3\\envs\\PEMP\\lib\\site-packages\\cobra\\core\\dictlist.py\u001b[0m in \u001b[0;36mget_by_id\u001b[1;34m(self, id)\u001b[0m\n\u001b[0;32m     56\u001b[0m     \u001b[1;32mdef\u001b[0m \u001b[0mget_by_id\u001b[0m\u001b[1;33m(\u001b[0m\u001b[0mself\u001b[0m\u001b[1;33m,\u001b[0m \u001b[0mid\u001b[0m\u001b[1;33m)\u001b[0m\u001b[1;33m:\u001b[0m\u001b[1;33m\u001b[0m\u001b[0m\n\u001b[0;32m     57\u001b[0m         \u001b[1;34m\"\"\"return the element with a matching id\"\"\"\u001b[0m\u001b[1;33m\u001b[0m\u001b[0m\n\u001b[1;32m---> 58\u001b[1;33m         \u001b[1;32mreturn\u001b[0m \u001b[0mlist\u001b[0m\u001b[1;33m.\u001b[0m\u001b[0m__getitem__\u001b[0m\u001b[1;33m(\u001b[0m\u001b[0mself\u001b[0m\u001b[1;33m,\u001b[0m \u001b[0mself\u001b[0m\u001b[1;33m.\u001b[0m\u001b[0m_dict\u001b[0m\u001b[1;33m[\u001b[0m\u001b[0mid\u001b[0m\u001b[1;33m]\u001b[0m\u001b[1;33m)\u001b[0m\u001b[1;33m\u001b[0m\u001b[0m\n\u001b[0m\u001b[0;32m     59\u001b[0m \u001b[1;33m\u001b[0m\u001b[0m\n\u001b[0;32m     60\u001b[0m     \u001b[1;32mdef\u001b[0m \u001b[0mlist_attr\u001b[0m\u001b[1;33m(\u001b[0m\u001b[0mself\u001b[0m\u001b[1;33m,\u001b[0m \u001b[0mattribute\u001b[0m\u001b[1;33m)\u001b[0m\u001b[1;33m:\u001b[0m\u001b[1;33m\u001b[0m\u001b[0m\n",
      "\u001b[1;31mKeyError\u001b[0m: 'Add_ATP_maintain'"
     ]
    }
   ],
   "source": [
    "import cobra \n",
    "# general_library = cobra.io.read_sbml_model(\"mqc/summary/seed_1.xml\")\n",
    "general_library = cobra.io.read_sbml_model('D:/User/takura/Desktop/mqc.xml')\n",
    "general_library.reactions.get_by_id('Add_ATP_maintain')"
   ]
  },
  {
   "cell_type": "code",
   "execution_count": 9,
   "metadata": {},
   "outputs": [
    {
     "ename": "ValueError",
     "evalue": "Add_ATP_maintain not found",
     "output_type": "error",
     "traceback": [
      "\u001b[1;31m---------------------------------------------------------------------------\u001b[0m",
      "\u001b[1;31mKeyError\u001b[0m                                  Traceback (most recent call last)",
      "\u001b[1;32md:\\ananconda3\\envs\\PEMP\\lib\\site-packages\\cobra\\core\\dictlist.py\u001b[0m in \u001b[0;36mindex\u001b[1;34m(self, id, *args)\u001b[0m\n\u001b[0;32m    302\u001b[0m             \u001b[1;32mtry\u001b[0m\u001b[1;33m:\u001b[0m\u001b[1;33m\u001b[0m\u001b[0m\n\u001b[1;32m--> 303\u001b[1;33m                 \u001b[1;32mreturn\u001b[0m \u001b[0mself\u001b[0m\u001b[1;33m.\u001b[0m\u001b[0m_dict\u001b[0m\u001b[1;33m[\u001b[0m\u001b[0mid\u001b[0m\u001b[1;33m]\u001b[0m\u001b[1;33m\u001b[0m\u001b[0m\n\u001b[0m\u001b[0;32m    304\u001b[0m             \u001b[1;32mexcept\u001b[0m \u001b[0mKeyError\u001b[0m\u001b[1;33m:\u001b[0m\u001b[1;33m\u001b[0m\u001b[0m\n",
      "\u001b[1;31mKeyError\u001b[0m: 'Add_ATP_maintain'",
      "\nDuring handling of the above exception, another exception occurred:\n",
      "\u001b[1;31mValueError\u001b[0m                                Traceback (most recent call last)",
      "\u001b[1;32m<ipython-input-9-745fa80dcc63>\u001b[0m in \u001b[0;36m<module>\u001b[1;34m\u001b[0m\n\u001b[1;32m----> 1\u001b[1;33m \u001b[0mgeneral_library\u001b[0m\u001b[1;33m.\u001b[0m\u001b[0mreactions\u001b[0m\u001b[1;33m.\u001b[0m\u001b[0mremove\u001b[0m\u001b[1;33m(\u001b[0m\u001b[1;34m'Add_ATP_maintain'\u001b[0m\u001b[1;33m)\u001b[0m\u001b[1;33m\u001b[0m\u001b[0m\n\u001b[0m\u001b[0;32m      2\u001b[0m \u001b[0mgeneral_library\u001b[0m\u001b[1;33m.\u001b[0m\u001b[0mreactions\u001b[0m\u001b[1;33m.\u001b[0m\u001b[0mget_by_id\u001b[0m\u001b[1;33m(\u001b[0m\u001b[1;34m'Add_ATP_maintain'\u001b[0m\u001b[1;33m)\u001b[0m\u001b[1;33m\u001b[0m\u001b[0m\n",
      "\u001b[1;32md:\\ananconda3\\envs\\PEMP\\lib\\site-packages\\cobra\\core\\dictlist.py\u001b[0m in \u001b[0;36mremove\u001b[1;34m(self, x)\u001b[0m\n\u001b[0;32m    365\u001b[0m         \u001b[1;31m# Each item is unique in the list which allows this\u001b[0m\u001b[1;33m\u001b[0m\u001b[1;33m\u001b[0m\u001b[0m\n\u001b[0;32m    366\u001b[0m         \u001b[1;31m# It is much faster to do a dict lookup than n string comparisons\u001b[0m\u001b[1;33m\u001b[0m\u001b[1;33m\u001b[0m\u001b[0m\n\u001b[1;32m--> 367\u001b[1;33m         \u001b[0mself\u001b[0m\u001b[1;33m.\u001b[0m\u001b[0mpop\u001b[0m\u001b[1;33m(\u001b[0m\u001b[0mself\u001b[0m\u001b[1;33m.\u001b[0m\u001b[0mindex\u001b[0m\u001b[1;33m(\u001b[0m\u001b[0mx\u001b[0m\u001b[1;33m)\u001b[0m\u001b[1;33m)\u001b[0m\u001b[1;33m\u001b[0m\u001b[0m\n\u001b[0m\u001b[0;32m    368\u001b[0m \u001b[1;33m\u001b[0m\u001b[0m\n\u001b[0;32m    369\u001b[0m     \u001b[1;31m# these functions are slower because they rebuild the _dict every time\u001b[0m\u001b[1;33m\u001b[0m\u001b[1;33m\u001b[0m\u001b[0m\n",
      "\u001b[1;32md:\\ananconda3\\envs\\PEMP\\lib\\site-packages\\cobra\\core\\dictlist.py\u001b[0m in \u001b[0;36mindex\u001b[1;34m(self, id, *args)\u001b[0m\n\u001b[0;32m    303\u001b[0m                 \u001b[1;32mreturn\u001b[0m \u001b[0mself\u001b[0m\u001b[1;33m.\u001b[0m\u001b[0m_dict\u001b[0m\u001b[1;33m[\u001b[0m\u001b[0mid\u001b[0m\u001b[1;33m]\u001b[0m\u001b[1;33m\u001b[0m\u001b[0m\n\u001b[0;32m    304\u001b[0m             \u001b[1;32mexcept\u001b[0m \u001b[0mKeyError\u001b[0m\u001b[1;33m:\u001b[0m\u001b[1;33m\u001b[0m\u001b[0m\n\u001b[1;32m--> 305\u001b[1;33m                 \u001b[1;32mraise\u001b[0m \u001b[0mValueError\u001b[0m\u001b[1;33m(\u001b[0m\u001b[1;34m\"%s not found\"\u001b[0m \u001b[1;33m%\u001b[0m \u001b[0mid\u001b[0m\u001b[1;33m)\u001b[0m\u001b[1;33m\u001b[0m\u001b[0m\n\u001b[0m\u001b[0;32m    306\u001b[0m         \u001b[1;32mtry\u001b[0m\u001b[1;33m:\u001b[0m\u001b[1;33m\u001b[0m\u001b[0m\n\u001b[0;32m    307\u001b[0m             \u001b[0mi\u001b[0m \u001b[1;33m=\u001b[0m \u001b[0mself\u001b[0m\u001b[1;33m.\u001b[0m\u001b[0m_dict\u001b[0m\u001b[1;33m[\u001b[0m\u001b[0mid\u001b[0m\u001b[1;33m.\u001b[0m\u001b[0mid\u001b[0m\u001b[1;33m]\u001b[0m\u001b[1;33m\u001b[0m\u001b[0m\n",
      "\u001b[1;31mValueError\u001b[0m: Add_ATP_maintain not found"
     ]
    }
   ],
   "source": [
    "general_library.reactions.remove('Add_ATP_maintain')\n",
    "general_library.reactions.get_by_id('Add_ATP_maintain')"
   ]
  }
 ],
 "metadata": {
  "kernelspec": {
   "display_name": "base",
   "language": "python",
   "name": "python3"
  },
  "language_info": {
   "codemirror_mode": {
    "name": "ipython",
    "version": 3
   },
   "file_extension": ".py",
   "mimetype": "text/x-python",
   "name": "python",
   "nbconvert_exporter": "python",
   "pygments_lexer": "ipython3",
   "version": "3.8.5"
  },
  "orig_nbformat": 4
 },
 "nbformat": 4,
 "nbformat_minor": 2
}
