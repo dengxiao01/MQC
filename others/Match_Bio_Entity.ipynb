{
 "cells": [
  {
   "cell_type": "markdown",
   "metadata": {},
   "source": [
    "1. 使用BioBert医学专用 `biobert-large-cased` 预训练模型\n",
    "\n",
    "2. 取BioBert隐藏层最后一层的均值代表该名词的词向量\n",
    "\n",
    "3. 为每个 `addn_bioentity` 和每个 `bioentity_name` 里的名词计算余弦相似度\n",
    "\n",
    "4. 每个 `addn_bioentity` 的名词得到 `bioentity_name` 中最相似的编号"
   ]
  },
  {
   "cell_type": "markdown",
   "metadata": {},
   "source": [
    "#### 1 导入库和配置"
   ]
  },
  {
   "cell_type": "code",
   "execution_count": 1,
   "metadata": {},
   "outputs": [],
   "source": [
    "import os\n",
    "import torch\n",
    "import pandas as pd\n",
    "import numpy as np\n",
    "from tqdm import tqdm\n",
    "import multiprocessing\n",
    "import scipy.spatial.distance as dist\n",
    "from transformers import AutoTokenizer, AutoModelForMaskedLM\n",
    "from torch.utils.data import DataLoader\n",
    "import concurrent.futures\n",
    "# Config\n",
    "\n",
    "## 开启梯子后 使用全局代理链接 HuggingFace\n",
    "# os.environ['http_proxy'] = \"127.0.0.1:7890\"\n",
    "# os.environ['https_proxy'] = \"127.0.0.1:7890\"\n",
    "\n",
    "bioentity_name = pd.read_csv(\"./bioentity_name.csv\")\n",
    "addn_bioentity = pd.read_csv(\"./addn_bioentity.csv\")\n",
    "model_name='dmis-lab/biobert-large-cased-v1.1'\n",
    "device = torch.device(\"cuda\" if torch.cuda.is_available() else \"cpu\")\n",
    "batch_size = 500"
   ]
  },
  {
   "cell_type": "markdown",
   "metadata": {},
   "source": [
    "#### 2 导入模型和分词器"
   ]
  },
  {
   "cell_type": "code",
   "execution_count": 2,
   "metadata": {},
   "outputs": [],
   "source": [
    "biobert_tokenizer = AutoTokenizer.from_pretrained(model_name)\n",
    "biobert_model = AutoModelForMaskedLM.from_pretrained(model_name).to(device)"
   ]
  },
  {
   "cell_type": "code",
   "execution_count": 3,
   "metadata": {},
   "outputs": [],
   "source": [
    "def get_bert_embeddings(sentences, batch_size=32):\n",
    "    # 存储embedding列表\n",
    "    embeddings_list = []\n",
    "\n",
    "    # 使用DataLoader批处理\n",
    "    dataloader = DataLoader(sentences, batch_size=batch_size, shuffle=False)\n",
    "\n",
    "    for batch_sentences in tqdm(dataloader):\n",
    "        \n",
    "        # 释放多余显存\n",
    "        torch.cuda.empty_cache()\n",
    "        \n",
    "        # BioBERT\n",
    "        bert_encodings = biobert_tokenizer(batch_sentences, return_tensors='pt', padding=True)\n",
    "        attention_mask = bert_encodings['attention_mask'].to(device)\n",
    "        bert_input_ids = bert_encodings['input_ids'].to(device)\n",
    "\n",
    "        # 推理\n",
    "        with torch.no_grad():\n",
    "            bert_outputs = biobert_model(bert_input_ids, attention_mask=attention_mask, output_hidden_states=True)\n",
    "\n",
    "        # 抽取隐藏层\n",
    "        bert_cls_embeddings = bert_outputs.hidden_states[-1].mean(axis=1).cpu().numpy()\n",
    "        embeddings_list.append(bert_cls_embeddings)\n",
    "    \n",
    "    # 合并\n",
    "    result_embeddings = np.concatenate(embeddings_list, axis=0)\n",
    "\n",
    "    return result_embeddings"
   ]
  },
  {
   "cell_type": "markdown",
   "metadata": {},
   "source": [
    "#### 3 编码bioentity词向量"
   ]
  },
  {
   "cell_type": "code",
   "execution_count": 4,
   "metadata": {},
   "outputs": [
    {
     "name": "stderr",
     "output_type": "stream",
     "text": [
      "100%|██████████| 95/95 [01:25<00:00,  1.11it/s]\n"
     ]
    },
    {
     "data": {
      "text/plain": [
       "(47222, 1024)"
      ]
     },
     "execution_count": 4,
     "metadata": {},
     "output_type": "execute_result"
    }
   ],
   "source": [
    "bioentit_embeddings = get_bert_embeddings(bioentity_name.name.values, batch_size=batch_size)\n",
    "np.save(\"bioentit_embeddings.npy\", bioentit_embeddings)\n",
    "bioentit_embeddings.shape"
   ]
  },
  {
   "cell_type": "markdown",
   "metadata": {},
   "source": [
    "#### 4 编码addn_bioentity词向量"
   ]
  },
  {
   "cell_type": "code",
   "execution_count": 5,
   "metadata": {},
   "outputs": [
    {
     "name": "stderr",
     "output_type": "stream",
     "text": [
      "100%|██████████| 256/256 [05:46<00:00,  1.36s/it]\n"
     ]
    },
    {
     "data": {
      "text/plain": [
       "(127604, 1024)"
      ]
     },
     "execution_count": 5,
     "metadata": {},
     "output_type": "execute_result"
    }
   ],
   "source": [
    "addn_bioentity_embeddings = get_bert_embeddings(addn_bioentity.name.values, batch_size=batch_size)\n",
    "np.save(\"addn_bioentity_embeddings.npy\", addn_bioentity_embeddings)\n",
    "addn_bioentity_embeddings.shape"
   ]
  },
  {
   "cell_type": "markdown",
   "metadata": {},
   "source": [
    "#### 5 计算相似度 "
   ]
  },
  {
   "cell_type": "code",
   "execution_count": 2,
   "metadata": {},
   "outputs": [],
   "source": [
    "bioentit_embeddings = np.load(\"bioentit_embeddings.npy\")\n",
    "addn_bioentity_embeddings = np.load(\"addn_bioentity_embeddings.npy\")"
   ]
  },
  {
   "cell_type": "code",
   "execution_count": 3,
   "metadata": {},
   "outputs": [
    {
     "name": "stderr",
     "output_type": "stream",
     "text": [
      "100%|██████████| 127604/127604 [24:45<00:00, 85.92it/s] \n"
     ]
    }
   ],
   "source": [
    "# 余弦相似度的函数\n",
    "def compute_similarity(i):\n",
    "    similarities = [1 - dist.cosine(addn_bioentity_embeddings[i], bioentit_embeddings[j]) for j in range(len(bioentit_embeddings))]\n",
    "    most_similar_index = np.argmax(similarities)\n",
    "    return most_similar_index\n",
    "\n",
    "# 进程数\n",
    "num_processes = 180\n",
    "\n",
    "# 创建进程池\n",
    "with multiprocessing.Pool(processes=num_processes) as pool:\n",
    "    results = list(tqdm(pool.imap(compute_similarity, range(len(addn_bioentity_embeddings))), total=len(addn_bioentity_embeddings)))\n"
   ]
  },
  {
   "cell_type": "markdown",
   "metadata": {},
   "source": [
    "#### 6 匹配ID并且Submit"
   ]
  },
  {
   "cell_type": "code",
   "execution_count": 23,
   "metadata": {},
   "outputs": [
    {
     "data": {
      "text/html": [
       "<div>\n",
       "<style scoped>\n",
       "    .dataframe tbody tr th:only-of-type {\n",
       "        vertical-align: middle;\n",
       "    }\n",
       "\n",
       "    .dataframe tbody tr th {\n",
       "        vertical-align: top;\n",
       "    }\n",
       "\n",
       "    .dataframe thead th {\n",
       "        text-align: right;\n",
       "    }\n",
       "</style>\n",
       "<table border=\"1\" class=\"dataframe\">\n",
       "  <thead>\n",
       "    <tr style=\"text-align: right;\">\n",
       "      <th></th>\n",
       "      <th>name</th>\n",
       "      <th>id</th>\n",
       "    </tr>\n",
       "  </thead>\n",
       "  <tbody>\n",
       "    <tr>\n",
       "      <th>0</th>\n",
       "      <td>NAD(P)-glutamate dehydrogenase complex</td>\n",
       "      <td>14365</td>\n",
       "    </tr>\n",
       "    <tr>\n",
       "      <th>1</th>\n",
       "      <td>4-carboxy-4'-sulphoazobenzene reductase activity</td>\n",
       "      <td>11369</td>\n",
       "    </tr>\n",
       "    <tr>\n",
       "      <th>2</th>\n",
       "      <td>Ada Two-A containing complex</td>\n",
       "      <td>4328</td>\n",
       "    </tr>\n",
       "    <tr>\n",
       "      <th>3</th>\n",
       "      <td>up regulation of nitrogen utilization</td>\n",
       "      <td>27363</td>\n",
       "    </tr>\n",
       "    <tr>\n",
       "      <th>4</th>\n",
       "      <td>RetSat activity</td>\n",
       "      <td>3147</td>\n",
       "    </tr>\n",
       "    <tr>\n",
       "      <th>...</th>\n",
       "      <td>...</td>\n",
       "      <td>...</td>\n",
       "    </tr>\n",
       "    <tr>\n",
       "      <th>127599</th>\n",
       "      <td>p-benzoquinone reductase activity</td>\n",
       "      <td>11366</td>\n",
       "    </tr>\n",
       "    <tr>\n",
       "      <th>127600</th>\n",
       "      <td>activation of glia cell migration</td>\n",
       "      <td>43072</td>\n",
       "    </tr>\n",
       "    <tr>\n",
       "      <th>127601</th>\n",
       "      <td>GALT development</td>\n",
       "      <td>17451</td>\n",
       "    </tr>\n",
       "    <tr>\n",
       "      <th>127602</th>\n",
       "      <td>upregulation by symbiont of host phagocytosis</td>\n",
       "      <td>28279</td>\n",
       "    </tr>\n",
       "    <tr>\n",
       "      <th>127603</th>\n",
       "      <td>positive regulation of defense response to bac...</td>\n",
       "      <td>28371</td>\n",
       "    </tr>\n",
       "  </tbody>\n",
       "</table>\n",
       "<p>127604 rows × 2 columns</p>\n",
       "</div>"
      ],
      "text/plain": [
       "                                                     name     id\n",
       "0                  NAD(P)-glutamate dehydrogenase complex  14365\n",
       "1        4-carboxy-4'-sulphoazobenzene reductase activity  11369\n",
       "2                            Ada Two-A containing complex   4328\n",
       "3                   up regulation of nitrogen utilization  27363\n",
       "4                                         RetSat activity   3147\n",
       "...                                                   ...    ...\n",
       "127599                  p-benzoquinone reductase activity  11366\n",
       "127600                  activation of glia cell migration  43072\n",
       "127601                                   GALT development  17451\n",
       "127602      upregulation by symbiont of host phagocytosis  28279\n",
       "127603  positive regulation of defense response to bac...  28371\n",
       "\n",
       "[127604 rows x 2 columns]"
      ]
     },
     "execution_count": 23,
     "metadata": {},
     "output_type": "execute_result"
    }
   ],
   "source": [
    "### 创建匹配字典\n",
    "match_dict = dict(zip(bioentity_name.index.tolist(),bioentity_name.id.tolist()))\n",
    "\n",
    "addn_bioentity[\"id\"] = results\n",
    "addn_bioentity"
   ]
  },
  {
   "cell_type": "code",
   "execution_count": 26,
   "metadata": {},
   "outputs": [
    {
     "data": {
      "text/html": [
       "<div>\n",
       "<style scoped>\n",
       "    .dataframe tbody tr th:only-of-type {\n",
       "        vertical-align: middle;\n",
       "    }\n",
       "\n",
       "    .dataframe tbody tr th {\n",
       "        vertical-align: top;\n",
       "    }\n",
       "\n",
       "    .dataframe thead th {\n",
       "        text-align: right;\n",
       "    }\n",
       "</style>\n",
       "<table border=\"1\" class=\"dataframe\">\n",
       "  <thead>\n",
       "    <tr style=\"text-align: right;\">\n",
       "      <th></th>\n",
       "      <th>name</th>\n",
       "      <th>id</th>\n",
       "    </tr>\n",
       "  </thead>\n",
       "  <tbody>\n",
       "    <tr>\n",
       "      <th>0</th>\n",
       "      <td>NAD(P)-glutamate dehydrogenase complex</td>\n",
       "      <td>0031027</td>\n",
       "    </tr>\n",
       "    <tr>\n",
       "      <th>1</th>\n",
       "      <td>4-carboxy-4'-sulphoazobenzene reductase activity</td>\n",
       "      <td>0018544</td>\n",
       "    </tr>\n",
       "    <tr>\n",
       "      <th>2</th>\n",
       "      <td>Ada Two-A containing complex</td>\n",
       "      <td>0005745</td>\n",
       "    </tr>\n",
       "    <tr>\n",
       "      <th>3</th>\n",
       "      <td>up regulation of nitrogen utilization</td>\n",
       "      <td>0051175</td>\n",
       "    </tr>\n",
       "    <tr>\n",
       "      <th>4</th>\n",
       "      <td>RetSat activity</td>\n",
       "      <td>0004276</td>\n",
       "    </tr>\n",
       "    <tr>\n",
       "      <th>...</th>\n",
       "      <td>...</td>\n",
       "      <td>...</td>\n",
       "    </tr>\n",
       "    <tr>\n",
       "      <th>127599</th>\n",
       "      <td>p-benzoquinone reductase activity</td>\n",
       "      <td>0018541</td>\n",
       "    </tr>\n",
       "    <tr>\n",
       "      <th>127600</th>\n",
       "      <td>activation of glia cell migration</td>\n",
       "      <td>1903975</td>\n",
       "    </tr>\n",
       "    <tr>\n",
       "      <th>127601</th>\n",
       "      <td>GALT development</td>\n",
       "      <td>0034270</td>\n",
       "    </tr>\n",
       "    <tr>\n",
       "      <th>127602</th>\n",
       "      <td>upregulation by symbiont of host phagocytosis</td>\n",
       "      <td>0052191</td>\n",
       "    </tr>\n",
       "    <tr>\n",
       "      <th>127603</th>\n",
       "      <td>positive regulation of defense response to bac...</td>\n",
       "      <td>0052349</td>\n",
       "    </tr>\n",
       "  </tbody>\n",
       "</table>\n",
       "<p>127604 rows × 2 columns</p>\n",
       "</div>"
      ],
      "text/plain": [
       "                                                     name       id\n",
       "0                  NAD(P)-glutamate dehydrogenase complex  0031027\n",
       "1        4-carboxy-4'-sulphoazobenzene reductase activity  0018544\n",
       "2                            Ada Two-A containing complex  0005745\n",
       "3                   up regulation of nitrogen utilization  0051175\n",
       "4                                         RetSat activity  0004276\n",
       "...                                                   ...      ...\n",
       "127599                  p-benzoquinone reductase activity  0018541\n",
       "127600                  activation of glia cell migration  1903975\n",
       "127601                                   GALT development  0034270\n",
       "127602      upregulation by symbiont of host phagocytosis  0052191\n",
       "127603  positive regulation of defense response to bac...  0052349\n",
       "\n",
       "[127604 rows x 2 columns]"
      ]
     },
     "execution_count": 26,
     "metadata": {},
     "output_type": "execute_result"
    }
   ],
   "source": [
    "### 根据字典匹配ID\n",
    "addn_bioentity[\"id\"] = addn_bioentity[\"id\"].replace(match_dict)\n",
    "addn_bioentity"
   ]
  },
  {
   "cell_type": "code",
   "execution_count": 2,
   "metadata": {},
   "outputs": [
    {
     "data": {
      "text/html": [
       "<div>\n",
       "<style scoped>\n",
       "    .dataframe tbody tr th:only-of-type {\n",
       "        vertical-align: middle;\n",
       "    }\n",
       "\n",
       "    .dataframe tbody tr th {\n",
       "        vertical-align: top;\n",
       "    }\n",
       "\n",
       "    .dataframe thead th {\n",
       "        text-align: right;\n",
       "    }\n",
       "</style>\n",
       "<table border=\"1\" class=\"dataframe\">\n",
       "  <thead>\n",
       "    <tr style=\"text-align: right;\">\n",
       "      <th></th>\n",
       "      <th>id</th>\n",
       "      <th>name</th>\n",
       "    </tr>\n",
       "  </thead>\n",
       "  <tbody>\n",
       "    <tr>\n",
       "      <th>0</th>\n",
       "      <td>0000001</td>\n",
       "      <td>mitochondrion inheritance</td>\n",
       "    </tr>\n",
       "    <tr>\n",
       "      <th>1</th>\n",
       "      <td>0000002</td>\n",
       "      <td>mitochondrial genome maintenance</td>\n",
       "    </tr>\n",
       "    <tr>\n",
       "      <th>2</th>\n",
       "      <td>0000003</td>\n",
       "      <td>reproduction</td>\n",
       "    </tr>\n",
       "    <tr>\n",
       "      <th>3</th>\n",
       "      <td>0000005</td>\n",
       "      <td>obsolete ribosomal chaperone activity</td>\n",
       "    </tr>\n",
       "    <tr>\n",
       "      <th>4</th>\n",
       "      <td>0000006</td>\n",
       "      <td>high-affinity zinc transmembrane transporter a...</td>\n",
       "    </tr>\n",
       "    <tr>\n",
       "      <th>...</th>\n",
       "      <td>...</td>\n",
       "      <td>...</td>\n",
       "    </tr>\n",
       "    <tr>\n",
       "      <th>47217</th>\n",
       "      <td>part_of</td>\n",
       "      <td>part of</td>\n",
       "    </tr>\n",
       "    <tr>\n",
       "      <th>47218</th>\n",
       "      <td>positively_regulates</td>\n",
       "      <td>positively regulates</td>\n",
       "    </tr>\n",
       "    <tr>\n",
       "      <th>47219</th>\n",
       "      <td>regulates</td>\n",
       "      <td>regulates</td>\n",
       "    </tr>\n",
       "    <tr>\n",
       "      <th>47220</th>\n",
       "      <td>starts_during</td>\n",
       "      <td>starts_during</td>\n",
       "    </tr>\n",
       "    <tr>\n",
       "      <th>47221</th>\n",
       "      <td>term_tracker_item</td>\n",
       "      <td>term tracker item</td>\n",
       "    </tr>\n",
       "  </tbody>\n",
       "</table>\n",
       "<p>47222 rows × 2 columns</p>\n",
       "</div>"
      ],
      "text/plain": [
       "                         id                                               name\n",
       "0                   0000001                          mitochondrion inheritance\n",
       "1                   0000002                   mitochondrial genome maintenance\n",
       "2                   0000003                                       reproduction\n",
       "3                   0000005              obsolete ribosomal chaperone activity\n",
       "4                   0000006  high-affinity zinc transmembrane transporter a...\n",
       "...                     ...                                                ...\n",
       "47217               part_of                                            part of\n",
       "47218  positively_regulates                               positively regulates\n",
       "47219             regulates                                          regulates\n",
       "47220         starts_during                                      starts_during\n",
       "47221     term_tracker_item                                  term tracker item\n",
       "\n",
       "[47222 rows x 2 columns]"
      ]
     },
     "execution_count": 2,
     "metadata": {},
     "output_type": "execute_result"
    }
   ],
   "source": [
    "bioentity_name"
   ]
  },
  {
   "cell_type": "code",
   "execution_count": 33,
   "metadata": {},
   "outputs": [
    {
     "data": {
      "text/html": [
       "<div>\n",
       "<style scoped>\n",
       "    .dataframe tbody tr th:only-of-type {\n",
       "        vertical-align: middle;\n",
       "    }\n",
       "\n",
       "    .dataframe tbody tr th {\n",
       "        vertical-align: top;\n",
       "    }\n",
       "\n",
       "    .dataframe thead th {\n",
       "        text-align: right;\n",
       "    }\n",
       "</style>\n",
       "<table border=\"1\" class=\"dataframe\">\n",
       "  <thead>\n",
       "    <tr style=\"text-align: right;\">\n",
       "      <th></th>\n",
       "      <th>id</th>\n",
       "      <th>name</th>\n",
       "      <th>match_name</th>\n",
       "    </tr>\n",
       "  </thead>\n",
       "  <tbody>\n",
       "    <tr>\n",
       "      <th>0</th>\n",
       "      <td>0031027</td>\n",
       "      <td>NAD(P)-glutamate dehydrogenase complex</td>\n",
       "      <td>glutamate synthase complex (NADH)</td>\n",
       "    </tr>\n",
       "    <tr>\n",
       "      <th>1</th>\n",
       "      <td>0031027</td>\n",
       "      <td>NADH-glutamate synthase activity</td>\n",
       "      <td>glutamate synthase complex (NADH)</td>\n",
       "    </tr>\n",
       "    <tr>\n",
       "      <th>2</th>\n",
       "      <td>0031027</td>\n",
       "      <td>NADPH-linked glutamate synthase</td>\n",
       "      <td>glutamate synthase complex (NADH)</td>\n",
       "    </tr>\n",
       "    <tr>\n",
       "      <th>3</th>\n",
       "      <td>0031027</td>\n",
       "      <td>L-glutamate synthase (NADH)</td>\n",
       "      <td>glutamate synthase complex (NADH)</td>\n",
       "    </tr>\n",
       "    <tr>\n",
       "      <th>4</th>\n",
       "      <td>0031027</td>\n",
       "      <td>NADH-dependent glutamate synthase activity</td>\n",
       "      <td>glutamate synthase complex (NADH)</td>\n",
       "    </tr>\n",
       "    <tr>\n",
       "      <th>...</th>\n",
       "      <td>...</td>\n",
       "      <td>...</td>\n",
       "      <td>...</td>\n",
       "    </tr>\n",
       "    <tr>\n",
       "      <th>127599</th>\n",
       "      <td>0001086</td>\n",
       "      <td>TFIIA-class binding transcription factor activity</td>\n",
       "      <td>obsolete transcription factor activity, TFIIA-...</td>\n",
       "    </tr>\n",
       "    <tr>\n",
       "      <th>127600</th>\n",
       "      <td>0034974</td>\n",
       "      <td>Swi1-Swi3 complex</td>\n",
       "      <td>Swi5-Swi2 complex</td>\n",
       "    </tr>\n",
       "    <tr>\n",
       "      <th>127601</th>\n",
       "      <td>0085000</td>\n",
       "      <td>modification by symbiont of host morphology or...</td>\n",
       "      <td>obsolete modification by symbiont of host morp...</td>\n",
       "    </tr>\n",
       "    <tr>\n",
       "      <th>127602</th>\n",
       "      <td>0015628</td>\n",
       "      <td>protein secretion by the type II protein secre...</td>\n",
       "      <td>protein secretion by the type II secretion system</td>\n",
       "    </tr>\n",
       "    <tr>\n",
       "      <th>127603</th>\n",
       "      <td>0018541</td>\n",
       "      <td>p-benzoquinone reductase activity</td>\n",
       "      <td>p-benzoquinone reductase (NADPH) activity</td>\n",
       "    </tr>\n",
       "  </tbody>\n",
       "</table>\n",
       "<p>127604 rows × 3 columns</p>\n",
       "</div>"
      ],
      "text/plain": [
       "             id                                               name  \\\n",
       "0       0031027             NAD(P)-glutamate dehydrogenase complex   \n",
       "1       0031027                   NADH-glutamate synthase activity   \n",
       "2       0031027                    NADPH-linked glutamate synthase   \n",
       "3       0031027                        L-glutamate synthase (NADH)   \n",
       "4       0031027         NADH-dependent glutamate synthase activity   \n",
       "...         ...                                                ...   \n",
       "127599  0001086  TFIIA-class binding transcription factor activity   \n",
       "127600  0034974                                  Swi1-Swi3 complex   \n",
       "127601  0085000  modification by symbiont of host morphology or...   \n",
       "127602  0015628  protein secretion by the type II protein secre...   \n",
       "127603  0018541                  p-benzoquinone reductase activity   \n",
       "\n",
       "                                               match_name  \n",
       "0                       glutamate synthase complex (NADH)  \n",
       "1                       glutamate synthase complex (NADH)  \n",
       "2                       glutamate synthase complex (NADH)  \n",
       "3                       glutamate synthase complex (NADH)  \n",
       "4                       glutamate synthase complex (NADH)  \n",
       "...                                                   ...  \n",
       "127599  obsolete transcription factor activity, TFIIA-...  \n",
       "127600                                  Swi5-Swi2 complex  \n",
       "127601  obsolete modification by symbiont of host morp...  \n",
       "127602  protein secretion by the type II secretion system  \n",
       "127603          p-benzoquinone reductase (NADPH) activity  \n",
       "\n",
       "[127604 rows x 3 columns]"
      ]
     },
     "execution_count": 33,
     "metadata": {},
     "output_type": "execute_result"
    }
   ],
   "source": [
    "submit = pd.merge(addn_bioentity,bioentity_name,on=\"id\")\n",
    "submit.columns = [\"name\",\"id\",\"match_name\"]\n",
    "submit = submit[[\"id\",\"name\",\"match_name\"]]\n",
    "submit"
   ]
  },
  {
   "cell_type": "code",
   "execution_count": 34,
   "metadata": {},
   "outputs": [],
   "source": [
    "submit.to_csv(\"submission.csv\", index=False, encoding=\"utf_8_sig\")"
   ]
  }
 ],
 "metadata": {
  "kernelspec": {
   "display_name": "biobase",
   "language": "python",
   "name": "python3"
  },
  "language_info": {
   "codemirror_mode": {
    "name": "ipython",
    "version": 3
   },
   "file_extension": ".py",
   "mimetype": "text/x-python",
   "name": "python",
   "nbconvert_exporter": "python",
   "pygments_lexer": "ipython3",
   "version": "3.10.13"
  }
 },
 "nbformat": 4,
 "nbformat_minor": 2
}
