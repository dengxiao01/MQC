{
 "cells": [
  {
   "attachments": {},
   "cell_type": "markdown",
   "id": "773c7bed-c043-4329-b291-2006455f4b4e",
   "metadata": {},
   "source": [
    "# 数据下载"
   ]
  },
  {
   "cell_type": "code",
   "execution_count": null,
   "id": "c1a2a677-2ce7-4a72-97e2-a35e8e9df486",
   "metadata": {},
   "outputs": [],
   "source": [
    "wget https://zenodo.org/record/4128543/files/compounds.sqlite?download=1"
   ]
  },
  {
   "attachments": {},
   "cell_type": "markdown",
   "id": "27b93d35-64c7-427b-b8e8-d5a36494e339",
   "metadata": {},
   "source": [
    "# 数据提取代码"
   ]
  },
  {
   "cell_type": "code",
   "execution_count": 2,
   "id": "31f2d8d6",
   "metadata": {},
   "outputs": [],
   "source": [
    "import re\n",
    "import sqlite3\n",
    "\n",
    "def get_data_from_compound_identifiers(search_id, return_dict):\n",
    "    # 连接数据库\n",
    "    conn = sqlite3.connect('./compounds.sqlite')\n",
    "    cur = conn.cursor()\n",
    "\n",
    "    # 执行查询语句\n",
    "    sql_line = \"SELECT * FROM compound_identifiers WHERE compound_identifiers.accession=?\"\n",
    "    cur.execute(sql_line, (search_id,))\n",
    "    results = cur.fetchall()\n",
    "\n",
    "    for row in results:\n",
    "        sql_line = \"SELECT * FROM compound_identifiers WHERE compound_identifiers.compound_id=?\"\n",
    "        cur.execute(sql_line, (row[3],))\n",
    "        results2 = cur.fetchall()\n",
    "        for row2 in results2:\n",
    "            if re.match(r'^MNXM\\d+$', row2[5]):\n",
    "                return_dict.setdefault('MetaNetX', []).append(row2[5])\n",
    "            elif re.match(r'^META:.*', row2[5]):\n",
    "                return_dict.setdefault('MetaCyc', []).append(row2[5])\n",
    "            elif re.match(r'^CHEBI:\\d+$', row2[5]):\n",
    "                return_dict.setdefault('CHEBI', []).append(row2[5])\n",
    "            elif re.match(r'^HMDB\\d+$', row2[5]):\n",
    "                return_dict.setdefault('HMDB', []).append(row2[5])\n",
    "            elif re.match(r'^SLM:\\d+$', row2[5]):\n",
    "                return_dict.setdefault('SwissLipids', []).append(row2[5])\n",
    "            elif re.match(r'^(R-[A-Z]{3}-\\d+(-\\d+)?(\\.\\d+)?|REACT_\\d+(\\.\\d+)?)$', row2[5]):\n",
    "                return_dict.setdefault('Reactome', []).append(row2[5])\n",
    "            elif re.match(r'^\\d+$', row2[5]):\n",
    "                return_dict.setdefault('SABIO-RK', []).append(row2[5])\n",
    "            elif re.match(r'^LM(FA|GL|GP|SP|ST|PR|SL|PK)[0-9]{4}([0-9a-zA-Z]{4,6})?$', row2[5]):\n",
    "                return_dict.setdefault('LIPID', []).append(row2[5])\n",
    "            elif re.match(r'^cpd\\d{5}$', row2[5]):\n",
    "                return_dict.setdefault('SEED', []).append(row2[5])\n",
    "            elif re.match(r'^C\\d{5}$', row2[5]):\n",
    "                return_dict.setdefault('KEGG', []).append(row2[5])\n",
    "            elif re.match(r'^[a-z_A-Z0-9]+$', row2[5]):\n",
    "                return_dict.setdefault('BiGG', []).append(row2[5])\n",
    "            elif re.match(r'^(\\\\w+:[\\\\w\\\\d\\\\.-]*)|([a-z]{3,5})|(\\\\w{2,4}\\\\d{5})$', row2[5]):\n",
    "                return_dict.setdefault('Compound_Name', []).append(row2[5])      \n",
    " \n",
    "        sql_line=\"SELECT * FROM compounds WHERE compounds.id=?\"\n",
    "        cur.execute(sql_line, (row[3],))\n",
    "        results2 = cur.fetchall()\n",
    "        for row2 in results2:\n",
    "            return_dict.setdefault('InChIKey', []).append(row2[3])  \n",
    "            return_dict.setdefault('InChI', []).append(row2[4])  \n",
    "            return_dict.setdefault('SMILES', []).append(row2[5])  \n",
    "            return_dict.setdefault('MASS', []).append(row2[6])  \n",
    "            return_dict.setdefault('Atom_Bag', []).append(row2[7])  \n",
    "            return_dict.setdefault('Dissociation_Constants', []).append(row2[8])  \n",
    "            return_dict.setdefault('Group_Vector', []).append(row2[9])  \n",
    "\n",
    "    return return_dict\n",
    "\n",
    "def ID_trans(search_id,db_type):\n",
    "    \"\"\"compound ID transform.\n",
    "    Attributes\n",
    "    ----------\n",
    "    db_type: MetaNetX, MetaCyc, CHEBI, HMDB, SwissLipids, Reactome, SABIO-RK, LIPID, SEED, KEGG, BiGG, InChIKey, InChI, SMILES\n",
    "    如果 Compound_Name, 则判断list\n",
    "    \"\"\"\n",
    "    return_dict={}\n",
    "    return_dict=get_data_from_compound_identifiers(search_id,return_dict)\n",
    "    return_dict = remove_duplicates_from_dict(return_dict)\n",
    "    if db_type in return_dict.keys():\n",
    "        return_data=return_dict[db_type]\n",
    "    else:\n",
    "        return_data='No this data!'\n",
    "    return return_data\n",
    "\n",
    "def remove_duplicates_from_dict(dictionary_data):\n",
    "    new_dict = {}\n",
    "    for key, values in dictionary_data.items():\n",
    "        unique_values = list(set(values))\n",
    "        new_dict[key] = unique_values\n",
    "    return new_dict\n"
   ]
  },
  {
   "cell_type": "code",
   "execution_count": 1,
   "id": "0d0dd36b",
   "metadata": {},
   "outputs": [
    {
     "name": "stdout",
     "output_type": "stream",
     "text": [
      "The history saving thread hit an unexpected error (DatabaseError('database disk image is malformed')).History will not be written to the database.\n"
     ]
    },
    {
     "data": {
      "text/plain": [
       "[('2019-01-16 11:22:26.960271', None, 170910, 152, 11, '1629756')]"
      ]
     },
     "execution_count": 1,
     "metadata": {},
     "output_type": "execute_result"
    }
   ],
   "source": [
    "import re\n",
    "import sqlite3\n",
    "# 连接数据库\n",
    "conn = sqlite3.connect('./compounds.sqlite')\n",
    "cur = conn.cursor()\n",
    "\n",
    "# 执行查询语句\n",
    "sql_line = \"SELECT * FROM compound_identifiers WHERE compound_identifiers.accession=?\"\n",
    "cur.execute(sql_line, ('1629756',))\n",
    "results = cur.fetchall()\n",
    "results"
   ]
  },
  {
   "cell_type": "code",
   "execution_count": 17,
   "id": "f5be5e86",
   "metadata": {},
   "outputs": [
    {
     "ename": "IndexError",
     "evalue": "tuple index out of range",
     "output_type": "error",
     "traceback": [
      "\u001b[0;31m---------------------------------------------------------------------------\u001b[0m",
      "\u001b[0;31mIndexError\u001b[0m                                Traceback (most recent call last)",
      "\u001b[1;32m/home/dengxiao/mqc/others/Bigg ID转换-V2.ipynb 单元格 6\u001b[0m in \u001b[0;36m3\n\u001b[1;32m      <a href='vscode-notebook-cell://ssh-remote%2Bpear.tibd.net/home/dengxiao/mqc/others/Bigg%20ID%E8%BD%AC%E6%8D%A2-V2.ipynb#W5sdnNjb2RlLXJlbW90ZQ%3D%3D?line=0'>1</a>\u001b[0m \u001b[39mfor\u001b[39;00m row \u001b[39min\u001b[39;00m results:\n\u001b[1;32m      <a href='vscode-notebook-cell://ssh-remote%2Bpear.tibd.net/home/dengxiao/mqc/others/Bigg%20ID%E8%BD%AC%E6%8D%A2-V2.ipynb#W5sdnNjb2RlLXJlbW90ZQ%3D%3D?line=1'>2</a>\u001b[0m     sql_line \u001b[39m=\u001b[39m \u001b[39m\"\u001b[39m\u001b[39mSELECT * FROM compound_identifiers WHERE compound_identifiers.compound_id=?\u001b[39m\u001b[39m\"\u001b[39m\n\u001b[0;32m----> <a href='vscode-notebook-cell://ssh-remote%2Bpear.tibd.net/home/dengxiao/mqc/others/Bigg%20ID%E8%BD%AC%E6%8D%A2-V2.ipynb#W5sdnNjb2RlLXJlbW90ZQ%3D%3D?line=2'>3</a>\u001b[0m     cur\u001b[39m.\u001b[39mexecute(sql_line, (row[\u001b[39m7\u001b[39;49m],))\n\u001b[1;32m      <a href='vscode-notebook-cell://ssh-remote%2Bpear.tibd.net/home/dengxiao/mqc/others/Bigg%20ID%E8%BD%AC%E6%8D%A2-V2.ipynb#W5sdnNjb2RlLXJlbW90ZQ%3D%3D?line=3'>4</a>\u001b[0m     results2 \u001b[39m=\u001b[39m cur\u001b[39m.\u001b[39mfetchall()\n\u001b[1;32m      <a href='vscode-notebook-cell://ssh-remote%2Bpear.tibd.net/home/dengxiao/mqc/others/Bigg%20ID%E8%BD%AC%E6%8D%A2-V2.ipynb#W5sdnNjb2RlLXJlbW90ZQ%3D%3D?line=4'>5</a>\u001b[0m     results2\n",
      "\u001b[0;31mIndexError\u001b[0m: tuple index out of range"
     ]
    }
   ],
   "source": [
    "for row in results:\n",
    "    sql_line = \"SELECT * FROM compound_identifiers WHERE compound_identifiers.compound_id=?\"\n",
    "    cur.execute(sql_line, (row[7],))\n",
    "    results2 = cur.fetchall()\n",
    "    results2"
   ]
  },
  {
   "cell_type": "code",
   "execution_count": 22,
   "id": "d19d6f81",
   "metadata": {},
   "outputs": [
    {
     "data": {
      "text/plain": [
       "[]"
      ]
     },
     "execution_count": 22,
     "metadata": {},
     "output_type": "execute_result"
    }
   ],
   "source": [
    "cur.fetchall()"
   ]
  },
  {
   "cell_type": "code",
   "execution_count": 3,
   "id": "a8325633",
   "metadata": {},
   "outputs": [
    {
     "data": {
      "text/plain": [
       "{'BiGG': ['adenylpyrophosphate', 'ATP', 'H4atp', 'atp', 'M_atp', 'D08646'],\n",
       " 'CHEBI': ['CHEBI:10841',\n",
       "  'CHEBI:40938',\n",
       "  'CHEBI:57299',\n",
       "  'CHEBI:30616',\n",
       "  'CHEBI:237958',\n",
       "  'CHEBI:2359',\n",
       "  'CHEBI:13236',\n",
       "  'CHEBI:15422',\n",
       "  'CHEBI:10789',\n",
       "  'CHEBI:22249'],\n",
       " 'HMDB': ['HMDB00538'],\n",
       " 'KEGG': ['C00002'],\n",
       " 'SABIO-RK': ['8869363',\n",
       "  '8938081',\n",
       "  '8878982',\n",
       "  '34',\n",
       "  '29358',\n",
       "  '113592',\n",
       "  '5632460',\n",
       "  '211579',\n",
       "  '6798184',\n",
       "  '5696069',\n",
       "  '113593',\n",
       "  '389573'],\n",
       " 'SEED': ['cpd00002'],\n",
       " 'MetaNetX': ['MNXM114062',\n",
       "  'MNXM31407',\n",
       "  'MNXM89552',\n",
       "  'MNXM491078',\n",
       "  'MNXM3',\n",
       "  'MNXM89566',\n",
       "  'MNXM89562'],\n",
       " 'Compound_Name': [\"adenosine 5'-(tetrahydrogen triphosphate)\",\n",
       "  'adenosine triphosphate',\n",
       "  \"adenosine 5'-triphosphate(4-)\",\n",
       "  'adenosine-triphosphate',\n",
       "  \"adenosine-5'-triphosphate\"],\n",
       " 'InChIKey': ['ZKHQWZAMYRWXGA-KQYNXXCUSA-J'],\n",
       " 'InChI': ['InChI=1S/C10H16N5O13P3/c11-8-5-9(13-2-12-8)15(3-14-5)10-7(17)6(16)4(26-10)1-25-30(21,22)28-31(23,24)27-29(18,19)20/h2-4,6-7,10,16-17H,1H2,(H,21,22)(H,23,24)(H2,11,12,13)(H2,18,19,20)/p-4/t4-,6-,7-,10-/m1/s1'],\n",
       " 'SMILES': ['NC1=C2N=CN([C@@H]3O[C@H](COP([O-])(=O)OP([O-])(=O)OP(O)([O-])=O)[C@@H](O)[C@H]3O)C2=NC=N1'],\n",
       " 'MASS': [503.151],\n",
       " 'Atom_Bag': [b'\\x80\\x04\\x95+\\x00\\x00\\x00\\x00\\x00\\x00\\x00}\\x94(\\x8c\\x01N\\x94K\\x05\\x8c\\x01C\\x94K\\n\\x8c\\x01H\\x94K\\r\\x8c\\x01O\\x94K\\r\\x8c\\x01P\\x94K\\x03\\x8c\\x02e-\\x94M\\x04\\x01u.'],\n",
       " 'Dissociation_Constants': [b'\\x80\\x04\\x95;\\x00\\x00\\x00\\x00\\x00\\x00\\x00]\\x94(G@)333333G@\\x1d\\xae\\x14z\\xe1G\\xaeG@\\x13\\xb8Q\\xeb\\x85\\x1e\\xb8G@\\nQ\\xeb\\x85\\x1e\\xb8RG?\\xf8\\xcc\\xcc\\xcc\\xcc\\xcc\\xcdG?\\xec\\xcc\\xcc\\xcc\\xcc\\xcc\\xcde.'],\n",
       " 'Group_Vector': [b'\\x80\\x04\\x95K\\x01\\x00\\x00\\x00\\x00\\x00\\x00]\\x94(K\\x00K\\x00K\\x00K\\x00K\\x00K\\x00K\\x00K\\x00K\\x00K\\x00K\\x00K\\x00K\\x00K\\x00K\\x00K\\x00K\\x00K\\x00K\\x00K\\x00K\\x00K\\x00K\\x00K\\x00K\\x00K\\x00K\\x00K\\x00K\\x00K\\x00K\\x00K\\x00K\\x00K\\x00K\\x00K\\x00K\\x00K\\x00K\\x00K\\x00K\\x00K\\x00K\\x01K\\x00K\\x00K\\x00K\\x00K\\x00K\\x01K\\x00K\\x00K\\x00K\\x00K\\x00K\\x00K\\x00K\\x00K\\x00K\\x00K\\x00K\\x00K\\x00K\\x00K\\x00K\\x00K\\x00K\\x00K\\x00K\\x00K\\x00K\\x00K\\x00K\\x01K\\x00K\\x03K\\x00K\\x00K\\x00K\\x00K\\x00K\\x00K\\x00K\\x00K\\x00K\\x00K\\x00K\\x00K\\x00K\\x00K\\x00K\\x00K\\x00K\\x00K\\x00K\\x00K\\x00K\\x00K\\x00K\\x00K\\x00K\\x00K\\x00K\\x00K\\x01K\\x00K\\x00K\\x00K\\x00K\\x00K\\x00K\\x00K\\x00K\\x00K\\x00K\\x00K\\x00K\\x00K\\x00K\\x00K\\x02K\\x00K\\x00K\\x00K\\x00K\\x00K\\x00K\\x00K\\x01K\\x00K\\x00K\\x00K\\x00K\\x00K\\x00K\\x00K\\x00K\\x00K\\x00K\\x00K\\x00K\\x00K\\x00K\\x00K\\x00K\\x00K\\x00K\\x00K\\x02K\\x02K\\x01K\\x00K\\x00K\\x00K\\x00K\\x00K\\x00K\\x00K\\x02K\\x00K\\x00K\\x01K\\x00K\\x01e.']}"
      ]
     },
     "execution_count": 3,
     "metadata": {},
     "output_type": "execute_result"
    }
   ],
   "source": [
    "# get all data\n",
    "search_id='atp'# g6p C00092 1629756\n",
    "return_dict={}\n",
    "return_dict=get_data_from_compound_identifiers(search_id,return_dict)\n",
    "return_dict = remove_duplicates_from_dict(return_dict)\n",
    "return_dict"
   ]
  },
  {
   "cell_type": "code",
   "execution_count": 2,
   "id": "cb45a7e7",
   "metadata": {},
   "outputs": [
    {
     "data": {
      "text/plain": [
       "['InChI=1S/C6H13O9P/c7-3-2(1-14-16(11,12)13)15-6(10)5(9)4(3)8/h2-10H,1H2,(H2,11,12,13)/p-2/t2-,3-,4+,5-,6?/m1/s1']"
      ]
     },
     "execution_count": 2,
     "metadata": {},
     "output_type": "execute_result"
    }
   ],
   "source": [
    "search_id='g6p'\n",
    "ID_trans(search_id,'InChI')"
   ]
  },
  {
   "cell_type": "code",
   "execution_count": 3,
   "id": "da05bdad",
   "metadata": {},
   "outputs": [
    {
     "data": {
      "text/plain": [
       "['M_g6p', 'Glc6P', 'G6P', 'g6p']"
      ]
     },
     "execution_count": 3,
     "metadata": {},
     "output_type": "execute_result"
    }
   ],
   "source": [
    "search_id='HMDB01401'\n",
    "ID_trans(search_id,'BiGG')"
   ]
  },
  {
   "cell_type": "code",
   "execution_count": 5,
   "id": "7871a91b",
   "metadata": {},
   "outputs": [
    {
     "data": {
      "text/plain": [
       "['M_g6p', 'Glc6P', 'G6P', 'g6p']"
      ]
     },
     "execution_count": 5,
     "metadata": {},
     "output_type": "execute_result"
    }
   ],
   "source": [
    "search_id='glucose 6-phosphate'\n",
    "ID_trans(search_id,'BiGG')"
   ]
  },
  {
   "cell_type": "code",
   "execution_count": 4,
   "id": "e4d175fe",
   "metadata": {},
   "outputs": [
    {
     "data": {
      "text/plain": [
       "'No this data!'"
      ]
     },
     "execution_count": 4,
     "metadata": {},
     "output_type": "execute_result"
    }
   ],
   "source": [
    "search_id='g6p'\n",
    "ID_trans(search_id,'Compound_Name2')"
   ]
  }
 ],
 "metadata": {
  "kernelspec": {
   "display_name": "CGKG",
   "language": "python",
   "name": "python3"
  },
  "language_info": {
   "codemirror_mode": {
    "name": "ipython",
    "version": 3
   },
   "file_extension": ".py",
   "mimetype": "text/x-python",
   "name": "python",
   "nbconvert_exporter": "python",
   "pygments_lexer": "ipython3",
   "version": "3.8.5"
  }
 },
 "nbformat": 4,
 "nbformat_minor": 5
}
