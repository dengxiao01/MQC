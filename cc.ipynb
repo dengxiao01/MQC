{
 "cells": [
  {
   "cell_type": "code",
   "execution_count": 2,
   "metadata": {},
   "outputs": [
    {
     "data": {
      "text/plain": [
       "(10.0, 10)"
      ]
     },
     "execution_count": 2,
     "metadata": {},
     "output_type": "execute_result"
    }
   ],
   "source": [
    "# a='5.0 C21N7_1 + C39N7_1 --> 5.0 C23N7_1 + C29N7_2'\n",
    "a='2.0 C5_4 --> C10_4'\n",
    "import re \n",
    "# products='5.0 C23N7_1 + C29N7_2'\n",
    "# reactants='5.0 C21N7_1 + C39N7_1'\n",
    "products = 'C10_4'\n",
    "reactants = '2.0 C5_4'\n",
    "# pattern = r'(\\d+\\.\\d+|\\d+)\\s+(C\\d+[a-zA-Z0-9_]+)'\n",
    "# match1 = re.search(r'^([\\d.]+)\\s+', reactants)\n",
    "# match2 = re.search(r'^([\\d.]+)\\s+', products)\n",
    "reactant_carbon = sum((float(re.search(r'^([\\d.]+)\\s+', species).group(1)) if re.search(r'^([\\d.]+)\\s+', species) else 1) * int(match.group(1)) for species in reactants.split('+') for match in re.finditer(r'C(\\d+)', species) if match)\n",
    "                 \n",
    "product_carbon = sum((float(re.search(r'^([\\d.]+)\\s+', species).group(1)) if re.search(r'^([\\d.]+)\\s+', species) else 1) * int(match.group(1)) for species in products.split('+') for match in re.finditer(r'C(\\d+)', species) if match)\n",
    "reactant_carbon,product_carbon"
   ]
  },
  {
   "cell_type": "code",
   "execution_count": 30,
   "metadata": {},
   "outputs": [
    {
     "data": {
      "text/plain": [
       "(83.0, 55.0)"
      ]
     },
     "execution_count": 30,
     "metadata": {},
     "output_type": "execute_result"
    }
   ],
   "source": [
    "a='2.0 C10_1 + 3.0 C21N20_1 --> 2.0 C5_1 + 3.0 C15N20_1'\n",
    "products = '2.0 C5_1 + 3.0 C15N20_1'\n",
    "reactants = '2.0 C10_1 + 3.0 C21N20_1'\n",
    "# products = 'C10_4'\n",
    "# reactants = '2.0 C5_4'\n",
    "pattern = r'^([\\d.]+)\\s+' \n",
    "reactant_carbon = sum((float(re.search(pattern, species.strip()).group(1)) if re.search(pattern, species.strip()) else 1) * int(match.group(1)) for species in reactants.split('+') for match in re.finditer(r'C(\\d+)', species.strip()) if match)\n",
    "                 \n",
    "product_carbon = sum((float(re.search(pattern, species.strip()).group(1)) if re.search(pattern, species.strip()) else 1) * int(match.group(1)) for species in products.split('+') for match in re.finditer(r'C(\\d+)', species.strip()) if match)\n",
    "reactant_carbon,product_carbon     "
   ]
  }
 ],
 "metadata": {
  "kernelspec": {
   "display_name": "mqc",
   "language": "python",
   "name": "python3"
  },
  "language_info": {
   "codemirror_mode": {
    "name": "ipython",
    "version": 3
   },
   "file_extension": ".py",
   "mimetype": "text/x-python",
   "name": "python",
   "nbconvert_exporter": "python",
   "pygments_lexer": "ipython3",
   "version": "3.8.5"
  }
 },
 "nbformat": 4,
 "nbformat_minor": 2
}
